{
 "cells": [
  {
   "cell_type": "code",
   "execution_count": 65,
   "metadata": {
    "collapsed": true
   },
   "outputs": [],
   "source": [
    "from django.conf import settings\n",
    "import os\n",
    "import tarfile\n",
    "import uuid\n",
    "import shutil\n",
    "from tardis.tardis_portal.models import StorageBox, DataFileObject, DataFile\n",
    "from tardis.tardis_portal.models.dataset import Dataset"
   ]
  },
  {
   "cell_type": "code",
   "execution_count": 2,
   "metadata": {
    "collapsed": false,
    "scrolled": true
   },
   "outputs": [
    {
     "data": {
      "text/plain": [
       "{'default': {'ENGINE': 'django.db.backends.sqlite3',\n",
       "  'HOST': '',\n",
       "  'NAME': 'db.sqlite3',\n",
       "  'PASSWORD': '',\n",
       "  'PORT': '',\n",
       "  'USER': ''}}"
      ]
     },
     "execution_count": 2,
     "metadata": {},
     "output_type": "execute_result"
    }
   ],
   "source": [
    "#TODOsteve report bug with verified (unverified if one storage box doesn't work which has weird side effects like image loading and downloading)"
   ]
  },
  {
   "cell_type": "code",
   "execution_count": 3,
   "metadata": {
    "collapsed": true
   },
   "outputs": [],
   "source": []
  },
  {
   "cell_type": "code",
   "execution_count": 4,
   "metadata": {
    "collapsed": true
   },
   "outputs": [],
   "source": [
    "boxes = StorageBox.objects.all()"
   ]
  },
  {
   "cell_type": "code",
   "execution_count": 5,
   "metadata": {
    "collapsed": false
   },
   "outputs": [
    {
     "data": {
      "text/plain": [
       "[<StorageBox: local box at /home/ubuntu/mytardis/var/store>, <StorageBox: tararchive box at /home/ubuntu/mytardis/var/tararchive>, <StorageBox: tararchive cache box at /home/ubuntu/mytardis/var/tararchive_cache>]"
      ]
     },
     "execution_count": 5,
     "metadata": {},
     "output_type": "execute_result"
    }
   ],
   "source": [
    "boxes"
   ]
  },
  {
   "cell_type": "code",
   "execution_count": 6,
   "metadata": {
    "collapsed": false
   },
   "outputs": [
    {
     "data": {
      "text/plain": [
       "<StorageBox: local box at /home/ubuntu/mytardis/var/store>"
      ]
     },
     "execution_count": 6,
     "metadata": {},
     "output_type": "execute_result"
    }
   ],
   "source": [
    "boxes[0]"
   ]
  },
  {
   "cell_type": "code",
   "execution_count": 7,
   "metadata": {
    "collapsed": true
   },
   "outputs": [],
   "source": [
    "default_box = boxes[0]"
   ]
  },
  {
   "cell_type": "code",
   "execution_count": 8,
   "metadata": {
    "collapsed": false
   },
   "outputs": [],
   "source": [
    "# copy to tararchive box (won't do this in future, preferring cache)\n",
    "# default_box.copy_files(dest_box=boxes[1])"
   ]
  },
  {
   "cell_type": "code",
   "execution_count": 9,
   "metadata": {
    "collapsed": true
   },
   "outputs": [],
   "source": [
    "cache_box = boxes[2]"
   ]
  },
  {
   "cell_type": "code",
   "execution_count": 55,
   "metadata": {
    "collapsed": false
   },
   "outputs": [
    {
     "name": "stdout",
     "output_type": "stream",
     "text": [
      "dataset_id value in cache box\n",
      "1\n"
     ]
    }
   ],
   "source": [
    "print \"dataset_id value in cache box\"\n",
    "dataset_id = cache_box.options.filter(key='dataset_id')[0].value\n",
    "print dataset_id"
   ]
  },
  {
   "cell_type": "code",
   "execution_count": 25,
   "metadata": {
    "collapsed": false
   },
   "outputs": [],
   "source": [
    "dataset = Dataset.objects.filter(id=dataset_id)[0]"
   ]
  },
  {
   "cell_type": "code",
   "execution_count": 12,
   "metadata": {
    "collapsed": false
   },
   "outputs": [],
   "source": [
    "# df = dataset.datafile_set.all()[0]\n",
    "# dfo = df.file_objects.first()\n",
    "# dfo._get_identifier()"
   ]
  },
  {
   "cell_type": "code",
   "execution_count": 13,
   "metadata": {
    "collapsed": true
   },
   "outputs": [],
   "source": [
    "# TODO: make <dataset_id>.tar in cache box"
   ]
  },
  {
   "cell_type": "code",
   "execution_count": 86,
   "metadata": {
    "collapsed": false,
    "scrolled": true
   },
   "outputs": [
    {
     "name": "stdout",
     "output_type": "stream",
     "text": [
      "default location: /home/ubuntu/mytardis/var/store\n",
      "cache location: /home/ubuntu/mytardis/var/tararchive_cache\n",
      "dataset id: 1\n",
      "tararchive box for dataset: tararchive box at /home/ubuntu/mytardis/var/tararchive\n",
      "dataset: A dataset\n",
      "/home/ubuntu/mytardis/var/tararchive/1.tar\n",
      "False\n",
      "\t/home/ubuntu/mytardis/var/store/A dataset-1/Photo 4-10-12 2 15 00 PM.png\n",
      "\t/home/ubuntu/mytardis/var/store/A dataset-1/SekZx.jpg\n",
      "/home/ubuntu/mytardis/var/tararchive_cache/e9803a02-02c1-435c-a61c-9e8ffa2c1fa9.tar\n",
      "copying temp tar file /home/ubuntu/mytardis/var/tararchive_cache/e9803a02-02c1-435c-a61c-9e8ffa2c1fa9.tar to /home/ubuntu/mytardis/var/tararchive\n",
      "creating dfo copy 5905a2d2b357935196d4a81844c9bc65 Photo 4-10-12 2 15 00 PM.png # image/png in tararchive box at /home/ubuntu/mytardis/var/tararchive\n",
      "creating dfo copy e3d70bc8d7173fc22b87f3db15bfe9d4 SekZx.jpg # image/jpeg in tararchive box at /home/ubuntu/mytardis/var/tararchive\n"
     ]
    }
   ],
   "source": [
    "# task that goes through and creates tars where applicable\n",
    "# boxes for dataset\n",
    "# TODOsteve change 'tar_path' to 'location' option name\n",
    "\n",
    "default_box = StorageBox.objects.filter(django_storage_class='tardis.tardis_portal.storage.MyTardisLocalFileSystemStorage').first()\n",
    "# inferred cache path from tar box\n",
    "dataset_default_path = default_box.options.filter(key='location').first().value\n",
    "print 'default location: ' + dataset_default_path\n",
    "\n",
    "tarcache_box = StorageBox.objects.filter(django_storage_class='tardis.tardis_portal.storage.tararchivefs.TarArchiveFileSystemStorageCache').first()\n",
    "# inferred cache path from tar box\n",
    "dataset_cache_path = tarcache_box.options.filter(key='tar_path').first().value\n",
    "print 'cache location: ' + dataset_cache_path\n",
    "\n",
    "boxes = StorageBox.objects.filter(options__key='dataset_id', django_storage_class='tardis.tardis_portal.storage.tararchivefs.TarArchiveFileSystemStorage')\n",
    "\n",
    "for tararchive_box in boxes:\n",
    "    \n",
    "    dataset_id = tararchive_box.options.filter(key='dataset_id').first().value\n",
    "    print 'dataset id: ' + dataset_id\n",
    "    \n",
    "    # corresponding tar box\n",
    "    tararchive_box = StorageBox.objects.filter(options__key='dataset_id', options__value='1', django_storage_class='tardis.tardis_portal.storage.tararchivefs.TarArchiveFileSystemStorage').first()\n",
    "    print 'tararchive box for dataset: ' + str(tararchive_box)\n",
    "    \n",
    "    dataset = dataset = Dataset.objects.filter(id=dataset_id).first()\n",
    "    print 'dataset: ' + str(dataset)\n",
    "    \n",
    "    # inferred path from tar box\n",
    "    dataset_tar_dir = tararchive_box.options.filter(key='tar_path').first().value\n",
    "    dataset_tar = dataset_tar_dir + '/' + str(dataset.id) + '.tar'\n",
    "    print dataset_tar\n",
    "    \n",
    "    # tar exists or not\n",
    "    exists = os.path.isfile(dataset_tar)\n",
    "    print exists\n",
    "    \n",
    "    # file list for tar\n",
    "    for df in dataset.datafile_set.all():\n",
    "        dfo = df.file_objects.first()\n",
    "        print '\\t' + dfo._storage.path(dfo.uri)\n",
    "\n",
    "\n",
    "    unique_filename = uuid.uuid4()\n",
    "    tmp_cache_tar = dataset_cache_path + '/' + str(unique_filename) + '.tar'\n",
    "    print tmp_cache_tar\n",
    "    \n",
    "    # if tar archive doesn't exist\n",
    "    # TODOsteve modified times and update/replace tar\n",
    "    if not exists:\n",
    "        # create tar in cache\n",
    "        with tarfile.open(tmp_cache_tar, \"w\") as tar:\n",
    "            for df in dataset.datafile_set.all():\n",
    "\n",
    "                dfo = df.file_objects.first()\n",
    "                file_path = dfo._storage.path(dfo.uri)\n",
    "                \n",
    "                info = tarfile.TarInfo(name=dfo.uri)\n",
    "                info.size=os.path.getsize(file_path)\n",
    "                \n",
    "                tar.addfile(info,\n",
    "                        file(file_path))\n",
    "                \n",
    "        # copy file to tar archive and rename to dataset_id.tar\n",
    "        new_tar_name = str(dataset.id) + '.tar'\n",
    "        print 'copying temp tar file ' + tmp_cache_tar + ' to ' + dataset_tar_dir\n",
    "        shutil.copy2(tmp_cache_tar, dataset_tar_dir)\n",
    "        os.rename(dataset_tar_dir + '/' + str(unique_filename) + '.tar',\n",
    "                 dataset_tar)\n",
    "        \n",
    "        # remove tar from cache\n",
    "        #os.remove(tmp_cache_tar)\n",
    "        \n",
    "        for df in dataset.datafile_set.all():\n",
    "            dfo = df.file_objects.first()           \n",
    "            \n",
    "            # create dfo\n",
    "            # TODOsteve create storage box in process\n",
    "            copy = DataFileObject(\n",
    "                datafile=df,\n",
    "                storage_box=tararchive_box,\n",
    "                uri=dfo.uri)\n",
    "            copy.save()\n",
    "            \n",
    "            print 'creating dfo copy ' + str(df) + ' in ' + str(tararchive_box)\n",
    "            \n",
    "    # TODOsteve finally clean up on fail/success\n"
   ]
  },
  {
   "cell_type": "code",
   "execution_count": 85,
   "metadata": {
    "collapsed": false
   },
   "outputs": [],
   "source": [
    "# tararchive removal\n",
    "dfos = DataFileObject.objects.filter(storage_box=tararchive_box)\n",
    "\n",
    "for dfo in dfos:\n",
    "    print dfo\n",
    "    #dfo.delete()"
   ]
  },
  {
   "cell_type": "code",
   "execution_count": 68,
   "metadata": {
    "collapsed": false
   },
   "outputs": [],
   "source": [
    "# ALL FILE REMOVAL\n",
    "# dfos = DataFileObject.objects.all()\n",
    "\n",
    "# for dfo in dfos:\n",
    "#    print dfo\n",
    "#    dfo.delete()\n",
    "    \n",
    "# FILE LINKS TOO\n",
    "# dfs = DataFile.objects.all()\n",
    "# for df in dfs:\n",
    "#    print df\n",
    "#    df.delete()"
   ]
  },
  {
   "cell_type": "code",
   "execution_count": 111,
   "metadata": {
    "collapsed": false
   },
   "outputs": [],
   "source": [
    "import tarfile,os\n",
    "\n",
    "#mkdir -p functionality\n",
    "def ensure_dir(f):\n",
    "    d = os.path.dirname(f)\n",
    "    if not os.path.exists(d):\n",
    "        os.makedirs(d)\n",
    "\n",
    "os.chdir(\"/home/ubuntu/mytardis/var/tararchive\")\n",
    "tar = tarfile.open(\"1.tar\")\n",
    "#for member in tar.getmembers():\n",
    "#    print member\n",
    "#     f=tar.extractfile(member)\n",
    "#     content=f.read()\n",
    "#     print \"%s has %d newlines\" %(member, content.count(\"\\n\"))\n",
    "#     print \"%s has %d spaces\" % (member,content.count(\" \"))\n",
    "#     print \"%s has %d characters\" % (member, len(content))\n",
    "#     sys.exit()\n",
    "\n",
    "#filename = 'A dataset-1/Photo 4-10-12 2 15 00 PM.png'\n",
    "filename = 'A dataset-1/SekZx.jpg'\n",
    "\n",
    "write_path = '/home/ubuntu/mytardis/var/tararchive_cache/' + filename\n",
    "\n",
    "member = tar.getmember(filename)\n",
    "\n",
    "f=tar.extractfile(member)\n",
    "\n",
    "ensure_dir(write_path)\n",
    "\n",
    "with open(write_path, 'w+') as extracted_file:\n",
    "    extracted_file.write(f.read())\n",
    "\n",
    "tar.close()"
   ]
  },
  {
   "cell_type": "code",
   "execution_count": 99,
   "metadata": {
    "collapsed": false
   },
   "outputs": [
    {
     "data": {
      "text/plain": [
       "'/home/ubuntu/mytardis/var/tararchive/A dataset-1'"
      ]
     },
     "execution_count": 99,
     "metadata": {},
     "output_type": "execute_result"
    }
   ],
   "source": []
  },
  {
   "cell_type": "code",
   "execution_count": null,
   "metadata": {
    "collapsed": true
   },
   "outputs": [],
   "source": []
  }
 ],
 "metadata": {
  "kernelspec": {
   "display_name": "Python 2",
   "language": "python",
   "name": "python2"
  },
  "language_info": {
   "codemirror_mode": {
    "name": "ipython",
    "version": 2
   },
   "file_extension": ".py",
   "mimetype": "text/x-python",
   "name": "python",
   "nbconvert_exporter": "python",
   "pygments_lexer": "ipython2",
   "version": "2.7.6"
  }
 },
 "nbformat": 4,
 "nbformat_minor": 0
}
