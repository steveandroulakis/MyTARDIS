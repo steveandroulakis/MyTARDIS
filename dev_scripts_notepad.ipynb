{
 "cells": [
  {
   "cell_type": "code",
   "execution_count": 2,
   "metadata": {
    "collapsed": false
   },
   "outputs": [],
   "source": [
    "from django.conf import settings\n",
    "import os\n",
    "import tarfile\n",
    "import uuid\n",
    "import shutil\n",
    "from tardis.tardis_portal.models import StorageBox, StorageBoxOption, DataFileObject, DataFile\n",
    "from tardis.tardis_portal.models.dataset import Dataset\n",
    "from tardis.tardis_portal.storage.tararchivefs import file_archive_paths,\\\n",
    "    ensure_dir, retrieve_dfos_from_tararchive, update_cache_status, tararchive_datasets\n",
    "from tardis.tardis_portal.storage.tararchivefs import TarArchiveFileSystemStorageUtil\n",
    "#mkdir -p functionality\n",
    "def ensure_dir(f):\n",
    "    d = os.path.dirname(f)\n",
    "    if not os.path.exists(d):\n",
    "        os.makedirs(d)"
   ]
  },
  {
   "cell_type": "code",
   "execution_count": 2,
   "metadata": {
    "collapsed": false,
    "scrolled": true
   },
   "outputs": [],
   "source": [
    "#TODOsteve report bug with verified (unverified if one storage box doesn't work which has weird side effects like image loading and downloading)"
   ]
  },
  {
   "cell_type": "code",
   "execution_count": 4,
   "metadata": {
    "collapsed": false,
    "scrolled": true
   },
   "outputs": [
    {
     "name": "stdout",
     "output_type": "stream",
     "text": [
      "creating tararchive_box for 1\n",
      "can tar archive dataset 1 - True\n",
      "dataset: Test Dataset\n",
      "tar exists: False\n",
      "renaming /home/ubuntu/mytardis/var/tararchive_cache/06d82906-0dea-4329-bfbc-be9188753c56.tar to /home/ubuntu/mytardis/var/tararchive_cache/1.tar\n",
      "copying temp tar file /home/ubuntu/mytardis/var/tararchive_cache/06d82906-0dea-4329-bfbc-be9188753c56.tar to /home/ubuntu/mytardis/var/tararchive\n",
      "\t/home/ubuntu/mytardis/var/store/Test Dataset-1/markcorrigan1.jpg\n",
      "creating dfo copy dfbb59b5eef3152843c55e5e7866ee31 markcorrigan1.jpg # image/jpeg in tararchive dataset 1\n",
      "\t/home/ubuntu/mytardis/var/store/Test Dataset-1/markcorrigan2.png\n",
      "creating dfo copy 9dbfe2d17b0788585ec8e054cedc6705 markcorrigan2.png # image/png in tararchive dataset 1\n"
     ]
    }
   ],
   "source": [
    "# Put on tape\n",
    "# TODO: issue - does it even if dataset isn't updated yet\n",
    "tararchive_datasets()"
   ]
  },
  {
   "cell_type": "code",
   "execution_count": 9,
   "metadata": {
    "collapsed": true
   },
   "outputs": [],
   "source": [
    "# Retrieve dataset from tape\n",
    "dataset_id = str(1)\n",
    "asyncresult = retrieve_dfos_from_tararchive.delay(dataset_id)"
   ]
  },
  {
   "cell_type": "code",
   "execution_count": 8,
   "metadata": {
    "collapsed": false
   },
   "outputs": [
    {
     "name": "stdout",
     "output_type": "stream",
     "text": [
      "True\n"
     ]
    }
   ],
   "source": [
    "# tape only\n",
    "dataset_id = str(1)\n",
    "tararchive_util = TarArchiveFileSystemStorageUtil(dataset_id)\n",
    "\n",
    "print tararchive_util.is_tape_only()"
   ]
  },
  {
   "cell_type": "code",
   "execution_count": 17,
   "metadata": {
    "collapsed": false
   },
   "outputs": [],
   "source": [
    "dataset_id = str(1)\n",
    "# we only want stuff on disk\n",
    "# delete through /admin"
   ]
  },
  {
   "cell_type": "code",
   "execution_count": 10,
   "metadata": {
    "collapsed": false
   },
   "outputs": [],
   "source": [
    "dataset_id = str(1)\n",
    "# we only want stuff on tape\n",
    "default_boxes = StorageBox.objects.filter(django_storage_class=\\\n",
    "                                          'tardis.tardis_portal.storage.MyTardisLocalFileSystemStorage')\n",
    "\n",
    "# for box in default_boxes:\n",
    "#     print box\n",
    "#     for dfo in box.file_objects.all():\n",
    "#         print dfo\n",
    "#         print 'removing dfo from box: ' + dfo.datafile.filename\n",
    "#         dfo.delete()"
   ]
  },
  {
   "cell_type": "code",
   "execution_count": null,
   "metadata": {
    "collapsed": false
   },
   "outputs": [],
   "source": []
  }
 ],
 "metadata": {
  "kernelspec": {
   "display_name": "Python 2",
   "language": "python",
   "name": "python2"
  },
  "language_info": {
   "codemirror_mode": {
    "name": "ipython",
    "version": 2
   },
   "file_extension": ".py",
   "mimetype": "text/x-python",
   "name": "python",
   "nbconvert_exporter": "python",
   "pygments_lexer": "ipython2",
   "version": "2.7.6"
  }
 },
 "nbformat": 4,
 "nbformat_minor": 0
}
